{
 "cells": [
  {
   "cell_type": "code",
   "execution_count": 1,
   "id": "10019578",
   "metadata": {},
   "outputs": [],
   "source": [
    "%load_ext autoreload\n",
    "%autoreload 2"
   ]
  },
  {
   "cell_type": "code",
   "execution_count": 2,
   "id": "7d3165bb",
   "metadata": {},
   "outputs": [
    {
     "name": "stdout",
     "output_type": "stream",
     "text": [
      "0.7.21\n"
     ]
    }
   ],
   "source": [
    "try:\n",
    "  import coffea\n",
    "except ImportError as e:\n",
    "  !pip install coffea\n",
    "  import coffea\n",
    "print (coffea.__version__)"
   ]
  },
  {
   "cell_type": "code",
   "execution_count": 3,
   "id": "a04a486c",
   "metadata": {},
   "outputs": [
    {
     "name": "stdout",
     "output_type": "stream",
     "text": [
      "4.3.7\n",
      "1.10.3\n"
     ]
    }
   ],
   "source": [
    "import uproot\n",
    "import awkward as ak\n",
    "import pandas as pd\n",
    "import numpy as np\n",
    "import matplotlib.pyplot as plt\n",
    "import vector\n",
    "import hist\n",
    "import mplhep as hep\n",
    "\n",
    "print (uproot.__version__)\n",
    "print (ak.__version__)"
   ]
  },
  {
   "cell_type": "code",
   "execution_count": 4,
   "id": "bb2676e7",
   "metadata": {},
   "outputs": [
    {
     "name": "stdout",
     "output_type": "stream",
     "text": [
      "['tree;1']\n",
      "['num_final_events', 'muon1_pt', 'muon1_eta', 'muon1_phi', 'muon2_pt', 'muon2_eta', 'muon2_phi', 'pt_dimu', 'eta_dimu', 'mass_dimu']\n",
      "    muon1_pt  muon1_eta  muon1_phi    pt_dimu\n",
      "0  52.556774  -1.429199  -2.723145  36.169895\n",
      "1  50.203129  -0.656128   1.626221  14.304790\n",
      "2  53.714878   0.159729  -1.947510  29.602020\n",
      "3  48.502796  -1.802002   1.400146  13.670808\n",
      "4  43.287487  -0.061668   1.378662   3.742076\n"
     ]
    }
   ],
   "source": [
    "file = uproot.open(\"muon_data_tree.root\")\n",
    "\n",
    "\n",
    "print(file.keys())\n",
    "tree = file[\"tree\"]\n",
    "print(tree.keys())  # Lista as branches (colunas)\n",
    "\n",
    "# Ler algumas entradas para verificar se os dados estão corretos\n",
    "df_r = tree.arrays([\"muon1_pt\", \"muon1_eta\", \"muon1_phi\", \"pt_dimu\"], library=\"pd\")  # Carregar em um DataFrame\n",
    "print(df_r.head())  # Visualizar as primeiras linhas do DataFrame"
   ]
  },
  {
   "cell_type": "code",
   "execution_count": 5,
   "id": "7d48f3dd",
   "metadata": {},
   "outputs": [
    {
     "data": {
      "text/plain": [
       "403907"
      ]
     },
     "execution_count": 5,
     "metadata": {},
     "output_type": "execute_result"
    }
   ],
   "source": [
    "len(df_r)"
   ]
  },
  {
   "cell_type": "code",
   "execution_count": 6,
   "id": "c3c917af",
   "metadata": {},
   "outputs": [
    {
     "name": "stdout",
     "output_type": "stream",
     "text": [
      "CPU times: user 2 µs, sys: 1 µs, total: 3 µs\n",
      "Wall time: 13.6 µs\n",
      "--2024-11-04 23:36:28--  https://root.cern/download/root_v6.30.04.Linux-ubuntu22.04-x86_64-gcc11.4.tar.gz\n",
      "Resolving root.cern (root.cern)... 188.184.49.144, 2001:1458:d00:55::100:c\n",
      "Connecting to root.cern (root.cern)|188.184.49.144|:443... connected.\n",
      "HTTP request sent, awaiting response... 200 OK\n",
      "Length: 307307012 (293M) [application/x-gzip]\n",
      "Saving to: ‘root_v6.30.04.Linux-ubuntu22.04-x86_64-gcc11.4.tar.gz’\n",
      "\n",
      "root_v6.30.04.Linux 100%[===================>] 293.07M  14.3MB/s    in 20s     \n",
      "\n",
      "2024-11-04 23:36:48 (14.3 MB/s) - ‘root_v6.30.04.Linux-ubuntu22.04-x86_64-gcc11.4.tar.gz’ saved [307307012/307307012]\n",
      "\n"
     ]
    }
   ],
   "source": [
    "%time\n",
    "#Download ROOT\n",
    "![ -f root_v6.30.04.Linux-ubuntu22.04-x86_64-gcc11.4.tar.gz ] || wget -nc https://root.cern/download/root_v6.30.04.Linux-ubuntu22.04-x86_64-gcc11.4.tar.gz\n",
    "!tar -xzf root_v6.30.04.Linux-ubuntu22.04-x86_64-gcc11.4.tar.gz"
   ]
  },
  {
   "cell_type": "code",
   "execution_count": 8,
   "id": "5ef0735e",
   "metadata": {},
   "outputs": [
    {
     "name": "stdout",
     "output_type": "stream",
     "text": [
      "Welcome to JupyROOT 6.30/04\n"
     ]
    }
   ],
   "source": [
    "import ROOT"
   ]
  },
  {
   "cell_type": "code",
   "execution_count": 9,
   "id": "25fc4181",
   "metadata": {},
   "outputs": [],
   "source": [
    "from ROOT import TH1F\n",
    "from ROOT import TFile\n",
    "from ROOT import TLorentzVector\n",
    "from ROOT import TLegend\n",
    "from ROOT import RooFit\n",
    "from ROOT import RooDataHist\n",
    "from ROOT import RooDataSet\n",
    "from ROOT import RooRealVar\n",
    "from ROOT import RooArgList\n",
    "from ROOT import RooArgSet\n",
    "from ROOT import RooAddPdf\n",
    "from ROOT import RooExponential\n",
    "from ROOT import RooGaussian\n",
    "from ROOT import RooPlot\n",
    "from ROOT import RooCBShape\n",
    "from ROOT import RooChi2Var\n",
    "from ROOT import TLatex"
   ]
  },
  {
   "cell_type": "code",
   "execution_count": 10,
   "id": "4f8ad6e8",
   "metadata": {},
   "outputs": [],
   "source": [
    "ROOT.ROOT.EnableImplicitMT(4) "
   ]
  },
  {
   "cell_type": "code",
   "execution_count": 11,
   "id": "8a1f200f",
   "metadata": {},
   "outputs": [
    {
     "name": "stdout",
     "output_type": "stream",
     "text": [
      "    muon1_pt  muon1_eta  muon1_phi    pt_dimu  mass_dimu\n",
      "0  52.556774  -1.429199  -2.723145  36.169895  91.075134\n",
      "1  50.203129  -0.656128   1.626221  14.304790  89.062180\n",
      "2  53.714878   0.159729  -1.947510  29.602020  91.994675\n",
      "3  48.502796  -1.802002   1.400146  13.670808  91.716125\n",
      "4  43.287487  -0.061668   1.378662   3.742076  90.336884\n"
     ]
    }
   ],
   "source": [
    "df_r = tree.arrays([\"muon1_pt\", \"muon1_eta\", \"muon1_phi\", \"pt_dimu\", \"mass_dimu\"], library=\"pd\")  # Carregar em um DataFrame\n",
    "print(df_r.head()) "
   ]
  },
  {
   "cell_type": "code",
   "execution_count": 12,
   "id": "533fb216",
   "metadata": {},
   "outputs": [],
   "source": [
    "mass_dimu = df_r[\"mass_dimu\"]"
   ]
  },
  {
   "cell_type": "code",
   "execution_count": 13,
   "id": "9df4153d",
   "metadata": {},
   "outputs": [
    {
     "name": "stderr",
     "output_type": "stream",
     "text": [
      "Info in <TCanvas::Print>: png file invariant_mass.png has been created\n"
     ]
    },
    {
     "data": {
      "image/png": "[encoded data removed]",
      "text/plain": [
       "<IPython.core.display.Image object>"
      ]
     },
     "metadata": {},
     "output_type": "display_data"
    }
   ],
   "source": [
    "# Nome único para cada execução para evitar conflitos\n",
    "hist_name = \"invariant_mass_histogram\"\n",
    "canvas_name = \"invariant_mass_canvas\"\n",
    "\n",
    "# Verifica e remove o histograma existente\n",
    "if ROOT.gROOT.FindObject(hist_name):\n",
    "    ROOT.gROOT.FindObject(hist_name).Delete()\n",
    "\n",
    "# Verifica e remove o canvas existente\n",
    "if ROOT.gROOT.FindObject(canvas_name):\n",
    "    ROOT.gROOT.FindObject(canvas_name).Delete()\n",
    "\n",
    "# Criação do histograma com ROOT\n",
    "bins = 30000\n",
    "low = 0.25\n",
    "up = 300.0\n",
    "hist = ROOT.TH1F(hist_name, \";Mass_{#mu#mu}(GeV/c^2);N_{Events}\",bins , low, up)\n",
    "\n",
    "hist.GetXaxis().SetTitleSize(0.042)\n",
    "hist.GetYaxis().SetTitleSize(0.042)\n",
    "hist.SetStats(False)\n",
    "\n",
    "# Preenchendo o histograma com os dados de massa invariante\n",
    "for mass in mass_dimu:\n",
    "    hist.Fill(mass)\n",
    "\n",
    "# Criação do canvas e desenho do histograma\n",
    "ROOT.gStyle.SetOptStat(0)\n",
    "ROOT.gStyle.SetTextFont(42)\n",
    "canvas = ROOT.TCanvas(canvas_name, \"Invariant Mass\", 800, 700)\n",
    "#canvas1.SetLogx()\n",
    "#canvas1.SetLogy();\n",
    "hist.Draw()\n",
    "\n",
    "# Atualiza o canvas para garantir que o gráfico seja exibido\n",
    "canvas.Update()\n",
    "'''\n",
    "label = ROOT.TLatex()\n",
    "label.SetTextAlign(22)\n",
    "#label.DrawLatex(0.55, 3.0e3, \"#eta\")\n",
    "label.DrawLatex(0.77, 3.0e3, \"#rho,#omega\")\n",
    "label.DrawLatex(1.20, 4.0e3, \"#phi\")\n",
    "label.DrawLatex(4.00, 7.0e3, \"J/#psi\")\n",
    "label.DrawLatex(4.60, 1.0e3, \"#psi'\")\n",
    "label.DrawLatex(13.0, 0.9e3, \"Y(1,2,3S)\")\n",
    "label.DrawLatex(91.0, 6.5e3, \"Z\")\n",
    "label.SetNDC(True)\n",
    "label.SetTextAlign(11)\n",
    "label.SetTextSize(0.03)\n",
    "label.DrawLatex(0.10, 0.92, \"#bf{CMS Open Data}\")\n",
    "label.SetTextAlign(31)\n",
    "label.DrawLatex(0.90, 0.92, \"#sqrt{s} = 13 TeV, L_{int} = 4.7 fb^{-1}\");\n",
    "'''\n",
    "\n",
    "canvas.Draw()\n",
    "\n",
    "# Caso queira salvar o resultado\n",
    "canvas.SaveAs(\"invariant_mass.png\")"
   ]
  },
  {
   "cell_type": "code",
   "execution_count": 14,
   "id": "a513047c",
   "metadata": {},
   "outputs": [
    {
     "name": "stdout",
     "output_type": "stream",
     "text": [
      "7\n",
      "[#1] INFO:DataHandling -- RooDataHist::adjustBinning(data): fit range of variable mass expanded to nearest bin boundaries: [2.9,3.3] --> [2.89779,3.30745]\n"
     ]
    }
   ],
   "source": [
    "jpsi_pdg_mass =3.0969 #3096.900/1000\n",
    "m_min = 2.9\n",
    "m_max = 3.3\n",
    "jpsi_bins = int((m_max - m_min)/0.05)\n",
    "print(jpsi_bins)\n",
    "\n",
    "# Definindo a variável de massa para RooFit\n",
    "#Create a Mass variable that RooFit can use, and importing the relevant dataset\n",
    "mass = ROOT.RooRealVar(\"mass\", \"m_{#mu^{+}#mu^{-}}\", m_min, m_max, \"GeV/c^{2}\")\n",
    "# Convertendo o histograma em um dataset do RooFit\n",
    "data = ROOT.RooDataHist(\"data\", \"dataset with mass\", ROOT.RooArgList(mass), hist)"
   ]
  },
  {
   "cell_type": "code",
   "execution_count": 15,
   "id": "4184e0e0",
   "metadata": {},
   "outputs": [],
   "source": [
    "## Sinal PDF : Crystal Ball + Gaussian\n",
    "frac_gauss = ROOT.RooRealVar(\"frac_gauss\", \"\", 0.4, 0.0, 1.0)\n",
    "mean = ROOT.RooRealVar(\"mean\", \"\",jpsi_pdg_mass , m_min, m_max)\n",
    "sigma_gauss = ROOT.RooRealVar(\"sigma gauss\", \"\",0.019 , 0.000001, 1.0)\n",
    "\n",
    "frac_cb = ROOT.RooRealVar(\"frac_cb\", \"\", 0.6, 0.0, 1.0)\n",
    "sigma_cb = ROOT.RooRealVar(\"sigma cb\", \"\",0.019 , 0.000001, 1.0)\n",
    "alpha = ROOT.RooRealVar(\"alpha\", \"\",1.4 , 0.0, 10.0)\n",
    "n = ROOT.RooRealVar(\"n\", \"\", 20 , 0, 150)\n",
    "n.setConstant(True)\n",
    "\n",
    "signal1 = ROOT.RooGaussian(\"gauss\", \"\", mass, mean, sigma_gauss)\n",
    "signal2 = ROOT.RooCBShape(\"crystal ball\", \"\", mass, mean, sigma_cb,alpha,n)"
   ]
  },
  {
   "cell_type": "code",
   "execution_count": 16,
   "id": "648a34b0",
   "metadata": {},
   "outputs": [],
   "source": [
    "#Background PDF Model\n",
    "exp_c0 = RooRealVar(\"exp_c0\", \"\", -3,-5,5)\n",
    "bkg = ROOT.RooExponential(\"bkg\", \"\",mass,exp_c0)"
   ]
  },
  {
   "cell_type": "code",
   "execution_count": 17,
   "id": "4e96fa26",
   "metadata": {},
   "outputs": [],
   "source": [
    "model = ROOT.RooAddPdf(\"model\", \"\", ROOT.RooArgList(signal1,signal2,bkg),ROOT.RooArgList(frac_gauss,frac_cb), ROOT.kTRUE)"
   ]
  },
  {
   "cell_type": "code",
   "execution_count": 19,
   "id": "cf761875",
   "metadata": {},
   "outputs": [
    {
     "name": "stdout",
     "output_type": "stream",
     "text": [
      "[#1] INFO:Minimization -- RooAbsMinimizerFcn::setOptimizeConst: activating const optimization\n",
      "[#1] INFO:Minimization --  The following expressions will be evaluated in cache-and-track mode: (gauss,crystal ball,bkg)\n",
      "Minuit2Minimizer: Minimize with max-calls 3500 convergence for edm < 1 strategy 1\n",
      "Minuit2Minimizer : Valid minimum - status = 0\n",
      "FVAL  = -8501.44060042308047\n",
      "Edm   = 8.74606438514167274e-05\n",
      "Nfcn  = 93\n",
      "alpha\t  = 1.30358\t +/-  0.0910696\t(limited)\n",
      "exp_c0\t  = -0.368367\t +/-  0.323604\t(limited)\n",
      "frac_cb\t  = 0.75303\t +/-  0.0159173\t(limited)\n",
      "frac_gauss\t  = 0.147666\t +/-  0.0499499\t(limited)\n",
      "mean\t  = 3.0931\t +/-  0.000617616\t(limited)\n",
      "sigma cb\t  = 0.0395435\t +/-  0.00179358\t(limited)\n",
      "sigma gauss\t  = 0.017141\t +/-  0.00284929\t(limited)\n",
      "[#1] INFO:Minimization -- RooAbsMinimizerFcn::setOptimizeConst: deactivating const optimization\n"
     ]
    },
    {
     "name": "stderr",
     "output_type": "stream",
     "text": [
      "Info in <Minuit2>: MnSeedGenerator Computing seed using NumericalGradient calculator\n",
      "Info in <Minuit2>: MnSeedGenerator Initial state: FCN =      -8501.440406 Edm =   0.0003588837419 NCalls =     25\n",
      "Info in <Minuit2>: MnSeedGenerator Initial state  \n",
      "  Minimum value : -8501.440406\n",
      "  Edm           : 0.0003588837419\n",
      "  Internal parameters:\t[    -0.8319197661   -0.07385759651     0.5308072539    -0.7817736232   -0.03450030119     -1.170444173     -1.308166179]\t\n",
      "  Internal gradient  :\t[      0.454893603   -0.07844271127     0.6950748044     0.2770807166      3.320749603     -3.136602547     0.7689934452]\t\n",
      "  Internal covariance matrix:\n",
      "[[  0.00070607986              0              0              0              0              0              0]\n",
      " [              0    0.005537254              0              0              0              0              0]\n",
      " [              0              0   0.0010463623              0              0              0              0]\n",
      " [              0              0              0    0.002417338              0              0              0]\n",
      " [              0              0              0              0  1.7699167e-05              0              0]\n",
      " [              0              0              0              0              0  2.6884621e-05              0]\n",
      " [              0              0              0              0              0              0   0.0001768244]]]\n",
      "Info in <Minuit2>: VariableMetricBuilder Start iterating until Edm is < 0.001 with call limit = 3500\n",
      "Info in <Minuit2>: VariableMetricBuilder    0 - FCN =      -8501.440406 Edm =   0.0003588837419 NCalls =     25\n",
      "Info in <Minuit2>: VariableMetricBuilder    1 - FCN =        -8501.4406 Edm =   7.475029988e-05 NCalls =     41\n",
      "Info in <Minuit2>: VariableMetricBuilder After Hessian\n",
      "Info in <Minuit2>: VariableMetricBuilder    2 - FCN =        -8501.4406 Edm =   8.746064385e-05 NCalls =     93\n",
      "Info in <Minuit2>: Minuit2Minimizer::Hesse Using max-calls 3500\n",
      "Info in <Minuit2>: Minuit2Minimizer::Hesse Hesse is valid - matrix is accurate\n"
     ]
    }
   ],
   "source": [
    "fit_result = model.fitTo(data, ROOT.RooFit.Save())"
   ]
  },
  {
   "cell_type": "code",
   "execution_count": 20,
   "id": "1e8cf607",
   "metadata": {},
   "outputs": [
    {
     "name": "stdout",
     "output_type": "stream",
     "text": [
      "nr de par: 7\n",
      "chi sqare: 0.648474014431997\n",
      "chi_square/n_param 0.7819833703444671\n",
      "[#1] INFO:Plotting -- RooAbsPdf::plotOn(model) directly selected PDF components: (gauss,crystal ball)\n",
      "[#1] INFO:Plotting -- RooAbsPdf::plotOn(model) indirectly selected PDF components: ()\n",
      "[#1] INFO:Plotting -- RooAbsPdf::plotOn(model) directly selected PDF components: (bkg)\n",
      "[#1] INFO:Plotting -- RooAbsPdf::plotOn(model) indirectly selected PDF components: ()\n",
      "frame_mass_f5962a0[mass] = (::,::,::,::)\n"
     ]
    },
    {
     "name": "stderr",
     "output_type": "stream",
     "text": [
      "Info in <TCanvas::Print>: png file M_JPsi_fit.png has been created\n"
     ]
    },
    {
     "data": {
      "image/png": "[encoded data removed]",
      "text/plain": [
       "<IPython.core.display.Image object>"
      ]
     },
     "metadata": {},
     "output_type": "display_data"
    }
   ],
   "source": [
    "colors = {\"model\" : 2, \"signal\" : 4, \"background\" : 3}\n",
    "styles = {\"model\" : 1, \"signal\" : 1, \"background\" : 2}\n",
    "\n",
    "ca = ROOT.TCanvas(\"can\", \"\",900,600)\n",
    "\n",
    "frame = mass.frame(ROOT.RooFit.Title(\"J/#psi Mass Fit\"), ROOT.RooFit.Bins(100))\n",
    "frame.GetXaxis().SetTitle(\"m_{#\\mu^+\\mu^-} [GeV/c^2]\")\n",
    "\n",
    "# Data\n",
    "data.plotOn(frame, ROOT.RooFit.Name(\"Data\"), ROOT.RooFit.DataError(ROOT.RooAbsData.SumW2))\n",
    "\n",
    "# Signal\n",
    "model.plotOn(frame, ROOT.RooFit.Name(\"Signal\"), ROOT.RooFit.Components(\"gauss,crystal ball\"), ROOT.RooFit.LineStyle(styles[\"signal\"]), ROOT.RooFit.LineColor(colors[\"signal\"]))\n",
    "\n",
    "# Background\n",
    "model.plotOn(frame, ROOT.RooFit.Name(\"Background\"), ROOT.RooFit.Components(\"bkg\"), ROOT.RooFit.LineStyle(styles[\"background\"]), ROOT.RooFit.LineColor(colors[\"background\"]))\n",
    "\n",
    "# Model\n",
    "model.plotOn(frame, ROOT.RooFit.Name(\"Model\"), ROOT.RooFit.LineStyle(styles[\"model\"]), ROOT.RooFit.LineColor(colors[\"model\"]))\n",
    "\n",
    "frame.Print()\n",
    "\n",
    "# Extraindo os parâmetros ajustados e seus erros\n",
    "mean_val = mean.getValV()\n",
    "mean_err = mean.getError()\n",
    "sigma_val = sigma_gauss.getValV()\n",
    "sigma_err = sigma_gauss.getError()\n",
    "\n",
    "import math\n",
    "\n",
    "# Cálculo do número total de eventos (n_total)\n",
    "n_total = data.sumEntries()\n",
    "\n",
    "# Cálculo do yields do sinal\n",
    "frac_cb_val = frac_cb.getVal()  # Valor de frac_cb\n",
    "frac_gauss_val = frac_gauss.getVal()  # Valor de frac_gauss\n",
    "frac_cb_err = frac_cb.getError()\n",
    "frac_gauss_err = frac_gauss.getError()\n",
    "\n",
    "# Número de eventos de sinal\n",
    "nsignal = n_total * (frac_cb_val + (1 - frac_cb_val) * frac_gauss_val)\n",
    "# Propagação de erros para o sinal\n",
    "nsignal_err = n_total * math.sqrt((frac_cb_err)**2 + ((1 - frac_cb_val) * frac_gauss_err)**2)\n",
    "\n",
    "# Número de eventos de fundo (N_total - N_signal)\n",
    "#nbackground = n_total - nsignal ou N_back = n_total (1 - fgauss) * (1 - fcrystall) * fexponential\n",
    "\n",
    "nbackground = n_total * (1 - frac_gauss_val) * (1 - frac_cb_val)\n",
    "\n",
    "# Propagação de erros para o fundo\n",
    "nbackground_err = n_total * math.sqrt(\n",
    "    ((1 - frac_cb_val) * frac_gauss_err) ** 2 +\n",
    "    ((1 - frac_gauss_val) * frac_cb_err) ** 2\n",
    ")\n",
    "\n",
    "\n",
    "## ChiSquare computation\n",
    "n_param = fit_result.floatParsFinal().getSize()\n",
    "print(\"nr de par:\", n_param)\n",
    "reduce_chi_square = frame.chiSquare(n_param)\n",
    "print(\"chi sqare:\", frame.chiSquare() )\n",
    "print(\"chi_square/n_param\", reduce_chi_square )\n",
    "\n",
    "frame.Draw()\n",
    "\n",
    "## Legendas\n",
    "\n",
    "#legend_text = ROOT.TPaveText(0.65, 0.6, 0.9, 0.85, \"NDC\")\n",
    "#legend_text = ROOT.TPaveText(0.75, 0.25, 0.9, 0.35, \"NDC\")\n",
    "legend_text = ROOT.TPaveText(0.7, 0.55, 0.88, 0.7, \"NDC\")\n",
    "legend_text.AddText(f\"Mean = {mean_val:.4f} #pm {mean_err:.4f} GeV/c^2\")\n",
    "legend_text.AddText(f\"Sigma = {sigma_val:.4f} #pm {sigma_err:.4f} GeV/c^2\")\n",
    "# Adicionar o rendimento do sinal e do fundo\n",
    "legend_text.AddText(f\"Signal Yield = {nsignal:.0f} #pm {nsignal_err:.0f}\")\n",
    "legend_text.AddText(f\"Background Yield = {nbackground:.0f} #pm {nbackground_err:.0f}\")\n",
    "#legend_text.AddText(f\"nr de param = {n_param:.2f}\")\n",
    "legend_text.AddText(f\"Chi2/ndof = {reduce_chi_square:.2f}\")\n",
    "\n",
    "legend_text.SetFillColor(0)\n",
    "legend_text.SetBorderSize(1)\n",
    "legend_text.Draw()\n",
    "\n",
    "#leg = ROOT.TLegend(0.7, 0.7, 0.88, 0.89)\n",
    "leg = ROOT.TLegend(0.7, 0.75, 0.88, 0.89)\n",
    "leg.AddEntry(frame.findObject(\"Data\"), \"Data\", \"LEP\")\n",
    "leg.AddEntry(frame.findObject(\"Model\"), \"Model Fit\", \"L\")\n",
    "leg.AddEntry(frame.findObject(\"Signal\"), \"Signal Fit\", \"L\")\n",
    "leg.AddEntry(frame.findObject(\"Background\"), \"Background fit\", \"L\")\n",
    "\n",
    "\n",
    "\n",
    "leg.Draw(\"same\")\n",
    "ca.Update()\n",
    "ca.Draw()\n",
    "\n",
    "ca.SaveAs(\"M_JPsi_fit.png\")"
   ]
  },
  {
   "cell_type": "code",
   "execution_count": 21,
   "id": "e59d7e8f",
   "metadata": {},
   "outputs": [
    {
     "name": "stdout",
     "output_type": "stream",
     "text": [
      "\n",
      "  RooFitResult: minimized FCN value: -8501.44, estimated distance to minimum: 8.85779e-05\n",
      "                covariance matrix quality: Full, accurate covariance matrix\n",
      "                Status : MINIMIZE=0 HESSE=0 \n",
      "\n",
      "    Floating Parameter    FinalValue +/-  Error   \n",
      "  --------------------  --------------------------\n",
      "                 alpha    1.3036e+00 +/-  9.16e-02\n",
      "                exp_c0   -3.6837e-01 +/-  3.24e-01\n",
      "               frac_cb    7.5303e-01 +/-  1.60e-02\n",
      "            frac_gauss    1.4767e-01 +/-  5.06e-02\n",
      "                  mean    3.0931e+00 +/-  6.18e-04\n",
      "              sigma cb    3.9543e-02 +/-  1.81e-03\n",
      "           sigma gauss    1.7141e-02 +/-  2.89e-03\n",
      "\n"
     ]
    }
   ],
   "source": [
    "fit_result.Print()"
   ]
  },
  {
   "cell_type": "code",
   "execution_count": 22,
   "id": "cc04a02b",
   "metadata": {},
   "outputs": [
    {
     "name": "stdout",
     "output_type": "stream",
     "text": [
      "Mean of Pull: -0.013334300692799698\n",
      "Sigma (Standard Deviation) of Pull: 0.7433368989606739\n"
     ]
    },
    {
     "data": {
      "image/png": "[encoded data removed]",
      "text/plain": [
       "<IPython.core.display.Image object>"
      ]
     },
     "metadata": {},
     "output_type": "display_data"
    }
   ],
   "source": [
    "# Crie um frame a partir da variável 'mass' que está sendo ajustada\n",
    "mass_frame = mass.frame(ROOT.RooFit.Title(\"Fit Results\"))\n",
    "\n",
    "# Plote os dados no frame\n",
    "data.plotOn(mass_frame)\n",
    "\n",
    "# Plote o modelo ajustado no frame\n",
    "model.plotOn(mass_frame)\n",
    "\n",
    "# Agora crie o histograma de pulls a partir do gráfico de ajuste\n",
    "histpull = mass_frame.pullHist()\n",
    "\n",
    "# Crie um novo frame para a distribuição de pulls\n",
    "pull_frame = mass.frame(ROOT.RooFit.Title(\"Pull Distribution\"))\n",
    "pull_frame.addPlotable(histpull, \"P\")\n",
    "\n",
    "\n",
    "can2 = ROOT.TCanvas(\"can2\", \"Pull Distribution\", 900, 300)\n",
    "\n",
    "# Ajuste o frame para o pull\n",
    "pull_frame.GetXaxis().SetTitle(\"m_{#mu^+\\mu^-} [GeV/c^2]\")\n",
    "pull_frame.GetYaxis().SetTitle(\"Pull\")\n",
    "pull_frame.GetYaxis().SetTitleOffset(1.6)\n",
    "\n",
    "# Desenhe o gráfico de pull\n",
    "can2.cd()\n",
    "pull_frame.Draw()\n",
    "\n",
    "# Calcular o mean e o desvio padrão dos pulls\n",
    "mean_hist = histpull.GetMean()\n",
    "stddev_hist = histpull.GetRMS()\n",
    "\n",
    "mean_pull = np.mean(histpull.GetY())  # Calcula o valor médio (mean) dos pulls\n",
    "sigma_pull = np.std(histpull.GetY())  # Calcula o desvio padrão (sigma) dos pulls\n",
    "print(f\"Mean of Pull: {mean_pull}\")\n",
    "print(f\"Sigma (Standard Deviation) of Pull: {sigma_pull}\")\n",
    "# Adicionando o texto com o mean e o desvio padrão no gráfico de pull\n",
    "latex = ROOT.TLatex()\n",
    "latex.SetNDC()  # Para coordenadas normalizadas\n",
    "\n",
    "# Desenhe o mean e stddev no gráfico\n",
    "latex.DrawLatex(0.15, 0.85, f\"Mean: {mean_pull:.2f}\")\n",
    "latex.DrawLatex(0.15, 0.80, f\"Std Dev: {sigma_pull:.2f}\")\n",
    "\n",
    "# Exibir o canvas com a informação correta\n",
    "can2.Draw()"
   ]
  },
  {
   "cell_type": "code",
   "execution_count": 23,
   "id": "a0b42781",
   "metadata": {},
   "outputs": [
    {
     "data": {
      "text/plain": [
       "False"
      ]
     },
     "execution_count": 23,
     "metadata": {},
     "output_type": "execute_result"
    },
    {
     "name": "stdout",
     "output_type": "stream",
     "text": [
      "[#1] INFO:ObjectHandling -- RooWorkspace::import(Jpsi fit) importing dataset data\n",
      "[#1] INFO:ObjectHandling -- RooWorkspace::import(Jpsi fit) importing RooRealVar::mass\n",
      "[#1] INFO:ObjectHandling -- RooWorkspace::import(Jpsi fit) importing RooAddPdf::model\n",
      "[#1] INFO:ObjectHandling -- RooWorkspace::import(Jpsi fit) importing RooGaussian::gauss\n",
      "[#1] INFO:ObjectHandling -- RooWorkspace::import(Jpsi fit) importing RooRealVar::mean\n",
      "[#1] INFO:ObjectHandling -- RooWorkspace::import(Jpsi fit) importing RooRealVar::sigma gauss\n",
      "[#1] INFO:ObjectHandling -- RooWorkspace::import(Jpsi fit) importing RooRealVar::frac_gauss\n",
      "[#1] INFO:ObjectHandling -- RooWorkspace::import(Jpsi fit) importing RooCBShape::crystal ball\n",
      "[#1] INFO:ObjectHandling -- RooWorkspace::import(Jpsi fit) importing RooRealVar::sigma cb\n",
      "[#1] INFO:ObjectHandling -- RooWorkspace::import(Jpsi fit) importing RooRealVar::alpha\n",
      "[#1] INFO:ObjectHandling -- RooWorkspace::import(Jpsi fit) importing RooRealVar::n\n",
      "[#1] INFO:ObjectHandling -- RooWorkspace::import(Jpsi fit) importing RooRecursiveFraction::model_recursive_fraction_crystal ball_2\n",
      "[#1] INFO:ObjectHandling -- RooWorkspace::import(Jpsi fit) importing RooRealVar::frac_cb\n",
      "[#1] INFO:ObjectHandling -- RooWorkspace::import(Jpsi fit) importing RooExponential::bkg\n",
      "[#1] INFO:ObjectHandling -- RooWorkspace::import(Jpsi fit) importing RooRealVar::exp_c0\n",
      "[#1] INFO:ObjectHandling -- RooWorkspace::import(Jpsi fit) importing RooRecursiveFraction::model_recursive_fraction_bkg_3\n",
      "[#1] INFO:ObjectHandling -- RooWorkspace::import(Jpsi fit) importing RooConstVar::1\n"
     ]
    }
   ],
   "source": [
    "# Workspace\n",
    "wspace = ROOT.RooWorkspace(\"Jpsi fit\")\n",
    "\n",
    "getattr(wspace, \"import\")(data)\n",
    "getattr(wspace, \"import\")(model)\n",
    "\n",
    "wspace.writeToFile(\"Jpsi_fit.root\")\n",
    "\n",
    "#ROOT.DisableImplicitMT()"
   ]
  }
 ],
 "metadata": {
  "kernelspec": {
   "display_name": "Python 3",
   "language": "python",
   "name": "python3"
  },
  "language_info": {
   "codemirror_mode": {
    "name": "ipython",
    "version": 3
   },
   "file_extension": ".py",
   "mimetype": "text/x-python",
   "name": "python",
   "nbconvert_exporter": "python",
   "pygments_lexer": "ipython3",
   "version": "3.9.12"
  }
 },
 "nbformat": 4,
 "nbformat_minor": 5
}
