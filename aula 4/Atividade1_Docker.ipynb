{
  "nbformat": 4,
  "nbformat_minor": 0,
  "metadata": {
    "colab": {
      "provenance": []
    },
    "kernelspec": {
      "name": "python3",
      "display_name": "Python 3"
    },
    "language_info": {
      "name": "python"
    }
  },
  "cells": [
    {
      "cell_type": "markdown",
      "source": [
        "**Créditos:** Esta atividade é uma adaptação dos tutoriais ATLAS-RECAST para o *US-ATLAS Computing Bootcamp* realizado no LBNL (*Lawrence Berkeley National Laboratory*) e na Universidade de Vitória  (*University of Victoria RECAST Bootcamp*).  A atividade  faz uso de conteúdo original desenvolvido por Danika MacDonell, Matthew Feickert, Lukas Heinrich, Karol Krizka, Samuel Meehan, Adam Parker e Giordon Stark."
      ],
      "metadata": {
        "id": "g01YIQyh3uuC"
      }
    },
    {
      "cell_type": "markdown",
      "source": [
        "# 1. O que é um container do docker?\n",
        "![docker_fig.png](data:image/png;base64,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)"
      ],
      "metadata": {
        "id": "8Qypik2dkXAU"
      }
    },
    {
      "cell_type": "markdown",
      "source": [
        "As imagens do Docker são executáveis ​​que agrupam todos os componentes necessários para um aplicativo ou ambiente em qualquer máquina host. Os containers do Docker são as instâncias de tempo de execução das imagens — são imagens com um estado.\n",
        "\n",
        "É importante ressaltar que os containers compartilham o kernel do sistema operacional da máquina host e, portanto, não exigem um sistema operacional por aplicativo. Como processos discretos, os containers ocupam apenas a memória necessária, o que os torna muito leves e rápidos de executar.\n",
        "\n",
        "Para maiores detalhes, visite o site oficial:\n",
        "\n",
        "`https://docs.docker.com/get-started/`\n",
        "\n",
        "\n",
        "Recomendamos também o módulo introdutório do HSF (*HEP Software Foundation*):\n",
        "\n",
        "`https://hsf-training.github.io/hsf-training-docker/index.html`"
      ],
      "metadata": {
        "id": "GpZOQKNdljmP"
      }
    },
    {
      "cell_type": "markdown",
      "source": [
        "# 2. \"Puxando\" as imagens"
      ],
      "metadata": {
        "id": "W-3tqKn9mAHQ"
      }
    },
    {
      "cell_type": "markdown",
      "source": [
        "Para começar, vamos baixar a imagem do Docker com a qual trabalharemos nesta atividade:\n",
        "\n",
        "**Bash**\n",
        "\n",
        "\n",
        "`docker pull matthewfeickert/intro-to-docker`"
      ],
      "metadata": {
        "id": "ZNV9KKSlmmsd"
      }
    },
    {
      "cell_type": "markdown",
      "source": [
        "e em seguida, vamos listar as imagens que estão disponíveis localmente:\n",
        "\n",
        "**Bash**\n",
        "\n",
        "`docker images`"
      ],
      "metadata": {
        "id": "ycmyE-yy_h-s"
      }
    },
    {
      "cell_type": "markdown",
      "source": [
        "Note o campo `TAG` associado à imagem `matthewfeickert/intro-to-docker`. As tags são uma maneira de especificar versões diferentes da mesma imagem. Como exemplo, vamos puxar a tag `buster` da imagem Debian.\n",
        "\n",
        "**Bash**\n",
        "\n",
        "\n",
        "`docker pull debian:buster`\n",
        "\n",
        "`docker images debian`"
      ],
      "metadata": {
        "id": "MlPdzcZu_1c-"
      }
    },
    {
      "cell_type": "markdown",
      "source": [
        "# 3. Rodando containers"
      ],
      "metadata": {
        "id": "7l0KkNclDUt6"
      }
    },
    {
      "cell_type": "markdown",
      "source": [
        "Para usar uma imagem Docker como uma instância específica em uma máquina host, você a executa como um container. Você pode executar em um modo desanexado (`detached`) ou em primeiro plano (`foreground`) de modo interativo.\n",
        "\n",
        "Execute a imagem que \"puxamos\"  como um container interativo com flag  `-it`. Também queremos usar   `--rm` para garantir que, quando eventualmente deixarmos o container, a instância seja removida e não continue ocupando recursos em nossa máquina.\n",
        "\n",
        "**Bash**\n",
        "\n",
        "`docker run --rm -it matthewfeickert/intro-to-docker:latest /bin/bash`\n"
      ],
      "metadata": {
        "id": "p_A6lUTvEckc"
      }
    },
    {
      "cell_type": "markdown",
      "source": [
        "Agora você está dentro do container em uma sessão `bash` interativa. Verifique o diretório do arquivo:\n",
        "\n",
        "**Bash**\n",
        "\n",
        "`pwd`\n",
        "\n",
        "**Saída**\n",
        "\n",
        "`/home/docker/data`\n",
        "\n",
        "e verifique o host para ver se você não está no seu sistema host local:\n",
        "\n",
        "**Bash**\n",
        "\n",
        "`hostname`"
      ],
      "metadata": {
        "id": "Oeys_RHxWs9v"
      }
    },
    {
      "cell_type": "markdown",
      "source": [
        "# 4. Montagem de volume"
      ],
      "metadata": {
        "id": "A2kYhbnQa94c"
      }
    },
    {
      "cell_type": "markdown",
      "source": [
        "Certifique-se de que saiu do container na sessão anterior, digitando:\n",
        "\n",
        "**Bash**\n",
        "\n",
        "`exit`"
      ],
      "metadata": {
        "id": "KtR_CdFZl6Bt"
      }
    },
    {
      "cell_type": "markdown",
      "source": [
        "Você pode tornar arquivos e diretórios acessíveis ao container montando-os como volumes no container com o sinalizador `-v`. Isso permite acesso direto ao sistema de arquivos do host dentro do container e para que os processos do container gravem diretamente no sistema de arquivos do host.\n",
        "\n",
        "**Bash**\n",
        "\n",
        "`docker run -v <caminho no host>:<caminho dentro do container> <imagem>`"
      ],
      "metadata": {
        "id": "NO-cAG1YbJDT"
      }
    },
    {
      "cell_type": "markdown",
      "source": [
        "Por exemplo, para montar seu diretório de trabalho atual em sua máquina local no diretório `data` do contêiner do exemplo:\n",
        "\n",
        "**Bash**\n",
        "\n",
        "`docker run --rm -it -v $PWD:/home/docker/data matthewfeickert/intro-to-docker`"
      ],
      "metadata": {
        "id": "sOTtWyEscBCD"
      }
    },
    {
      "cell_type": "markdown",
      "source": [
        "De dentro do container você pode listar `ls`  para ver o conteúdo do seu diretório na sua máquina local:\n",
        "\n",
        "**Bash**\n",
        "\n",
        "ls\n",
        "\n",
        "e ainda assim você está dentro do container:\n",
        "\n",
        "\n",
        "**Bash**\n",
        "\n",
        "`pwd`\n",
        "\n",
        "**Saída**\n",
        "\n",
        "`/home/docker/data`\n"
      ],
      "metadata": {
        "id": "R3uwV8jPce2Z"
      }
    },
    {
      "cell_type": "markdown",
      "source": [
        "Agora vamos verificar que todos os arquivos criados neste caminho no container persistem na saída:\n",
        "\n",
        "**Bash**\n",
        "\n",
        "`touch arquivo_criado_dentro.txt`\n",
        "\n",
        "`exit`"
      ],
      "metadata": {
        "id": "niCONQ6iqO8H"
      }
    },
    {
      "cell_type": "markdown",
      "source": [
        "**Bash**\n",
        "\n",
        "`ls *.txt`\n",
        "\n",
        "**Saída**\n",
        "\n",
        "`arquivo_criado_dentro.txt`\n"
      ],
      "metadata": {
        "id": "SFDUneANq1yv"
      }
    },
    {
      "cell_type": "markdown",
      "source": [
        "Você pode ter notado que o comando de inicialização `/bin/bash` foi usado para iniciar o container em um `shell bash` quando executamos o `matthewfeickert/intro-to-docker:latest` pela primeira vez, mas na segunda vez que executamos o container (quando adicionamos o `-v $PWD:/home/docker/data`), não especificamos um comando de inicialização. Como o container ainda sabia que deveria iniciar em um `shell bash`?\n",
        "\n",
        "O docker não tem essa funcionalidade. Contudo, esse comportamento vem do fato de que o  ([Dockerfile](https://hub.docker.com/r/matthewfeickert/intro-to-docker/dockerfile)) usado para criar essa imagem inclui uma instrução CMD [`/bin/bash`] no final, onde o comando CMD especifica que o container deve iniciar no  por padrão `shell bash` se nenhum outro comando de inicialização for especificado no comando `docker run`."
      ],
      "metadata": {
        "id": "wsZaboS1sXf6"
      }
    },
    {
      "cell_type": "markdown",
      "source": [
        "# 5. Escrevendo arquivos Docker (Dockerfiles) para construir imagens"
      ],
      "metadata": {
        "id": "_PtDP0BeuUAr"
      }
    },
    {
      "cell_type": "markdown",
      "source": [
        "As imagens do Docker são construídas por meio do mecanismo do Docker, que lê as instruções de um `Dockerfile`. Esses documentos baseados em texto fornecem as instruções por meio de uma API semelhante aos comandos do sistema operacional Linux para executar comandos durante a construção (`build`). O `Dockerfile` para a imagem  que está sendo usada é um exemplo de algumas extensões simples da imagem oficial do Docker do Python 3.6.8 ( [Dockerfile Python 3.6.8](https://hub.docker.com/layers/library/python/3.6.8/images/sha256-d5028edbd2793f03125e76c0519b837306b63d7835efd8e7aa62b9d46126a495))."
      ],
      "metadata": {
        "id": "QzfAW_GpuuIW"
      }
    },
    {
      "cell_type": "markdown",
      "source": [
        "Certifique-se de que saiu do container na sessão anterior, digitando:\n",
        "\n",
        "**Bash**\n",
        "\n",
        "`exit`\n",
        "\n",
        "\n",
        "Agora vamos de maneira muito simples estender a imagem do exemplo que estamos utilizando em uma nova imagem.  Para isso, crie um `Dockerfile` em sua máquina local:\n",
        "\n",
        "**Bash**\n",
        "\n",
        "`touch Dockerfile`\n",
        "\n",
        "E escreva nele as seguintes intruções  do  Docker para adicionar `cowsay` e `scikit-learn` ao ambiente:\n",
        "\n",
        "\n",
        "\n",
        "```\n",
        "# Dockerfile\n",
        "FROM matthewfeickert/intro-to-docker:latest\n",
        "USER root\n",
        "RUN apt-get update && \\\n",
        "    apt-get -qq -y install cowsay && \\\n",
        "    ln -s /usr/games/cowsay /usr/bin/cowsay\n",
        "RUN python -m pip install --no-cache-dir -q scikit-learn\n",
        "USER docker\n",
        "```\n",
        "\n"
      ],
      "metadata": {
        "id": "FyoO0PUJQwUc"
      }
    },
    {
      "cell_type": "markdown",
      "source": [
        "## Camadas do `Dockerfile`\n",
        "\n",
        "Cada comando `run` em um Dockerfile cria uma nova camada para a imagem Docker. Em geral, cada camada deve tentar fazer um trabalho e quanto menos camadas houver em uma imagem, mais fácil será compactá-la. Ao tentar carregar e baixar imagens sob demanda, quanto menor o tamanho, melhor.\n",
        "\n"
      ],
      "metadata": {
        "id": "WNrQIbDwSo-z"
      }
    },
    {
      "cell_type": "markdown",
      "source": [
        "Em seguida, crie uma imagem a partir do Dockerfile e marque-a com um nome legível por humanos:\n",
        "\n",
        "**Bash**\n",
        "\n",
        "`docker build -f Dockerfile -t extend-example:latest .`"
      ],
      "metadata": {
        "id": "o2-v-J2mR8uy"
      }
    },
    {
      "cell_type": "markdown",
      "source": [
        "Agora você pode executar a imagem como container e verificar por si mesmo se aquilo que você adicionou existe:\n",
        "\n",
        "**Bash**\n",
        "\n",
        "`docker run --rm -it extend-example:latest /bin/bash`"
      ],
      "metadata": {
        "id": "j_d4ThAyUMWH"
      }
    },
    {
      "cell_type": "markdown",
      "source": [
        "**Bash**\n",
        "\n",
        "\n",
        "\n",
        "```\n",
        "which cowsay\n",
        "cowsay \"Hello from Docker\"\n",
        "python -m pip list | grep scikit\n",
        "python3 -c \"import sklearn as sk; print(sk)\"\n",
        "```\n",
        "\n"
      ],
      "metadata": {
        "id": "AFHivhodUyPG"
      }
    },
    {
      "cell_type": "markdown",
      "source": [
        "**Saída**\n",
        "\n",
        "\n",
        "\n",
        "```\n",
        "/usr/bin/cowsay\n",
        " ___________________\n",
        "< Hello from Docker >\n",
        " -------------------\n",
        "        \\   ^__^\n",
        "         \\  (oo)\\_______\n",
        "            (__)\\       )\\/\\\n",
        "                ||----w |\n",
        "                ||     ||\n",
        "\n",
        "scikit-learn       0.21.3\n",
        "<module 'sklearn' from '/usr/local/lib/python3.6/site-packages/sklearn/__init__.py'>\n",
        "```\n",
        "\n"
      ],
      "metadata": {
        "id": "33S1xXf8VRLE"
      }
    },
    {
      "cell_type": "markdown",
      "source": [
        "# 6. Resumindo o que aprendemos nesta etapa\n",
        "\n",
        "\n",
        "\n",
        "*   Os containeres oferecem uma maneira rápida e acessível de personalizar seu ambiente.\n",
        "*   Dockerfiles permitem que você personalize uma imagem docker base para obter o ambiente exato que você deseja.\n",
        "*   A montagem de volume permite que você especifique os arquivos e diretórios exatos em sua máquina local para os quais você deseja que um container em execução tenha acesso."
      ],
      "metadata": {
        "id": "mjTDuPgllBXF"
      }
    },
    {
      "cell_type": "code",
      "source": [],
      "metadata": {
        "id": "lP2jWZHLmF9a"
      },
      "execution_count": null,
      "outputs": []
    }
  ]
}