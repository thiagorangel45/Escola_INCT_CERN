{
  "nbformat": 4,
  "nbformat_minor": 0,
  "metadata": {
    "colab": {
      "provenance": []
    },
    "kernelspec": {
      "name": "python3",
      "display_name": "Python 3"
    },
    "language_info": {
      "name": "python"
    },
    "widgets": {
      "application/vnd.jupyter.widget-state+json": {
        "53a1d8b9f0cc457c965691427f8039f2": {
          "model_module": "@jupyter-widgets/controls",
          "model_name": "VBoxModel",
          "model_module_version": "1.5.0",
          "state": {
            "_dom_classes": [
              "widget-interact"
            ],
            "_model_module": "@jupyter-widgets/controls",
            "_model_module_version": "1.5.0",
            "_model_name": "VBoxModel",
            "_view_count": null,
            "_view_module": "@jupyter-widgets/controls",
            "_view_module_version": "1.5.0",
            "_view_name": "VBoxView",
            "box_style": "",
            "children": [
              "IPY_MODEL_3c31b3d3f2a042a5b520207984dc9283",
              "IPY_MODEL_323a1ab0a7904643836833eed57b1826"
            ],
            "layout": "IPY_MODEL_48be4db3b9cf4370af448bb8d8854b60"
          }
        },
        "3c31b3d3f2a042a5b520207984dc9283": {
          "model_module": "@jupyter-widgets/controls",
          "model_name": "FloatSliderModel",
          "model_module_version": "1.5.0",
          "state": {
            "_dom_classes": [],
            "_model_module": "@jupyter-widgets/controls",
            "_model_module_version": "1.5.0",
            "_model_name": "FloatSliderModel",
            "_view_count": null,
            "_view_module": "@jupyter-widgets/controls",
            "_view_module_version": "1.5.0",
            "_view_name": "FloatSliderView",
            "continuous_update": true,
            "description": "w",
            "description_tooltip": null,
            "disabled": false,
            "layout": "IPY_MODEL_849bbf2cc3fa43b5901ba86f7462bd03",
            "max": 10000,
            "min": 4,
            "orientation": "horizontal",
            "readout": true,
            "readout_format": ".2f",
            "step": 100,
            "style": "IPY_MODEL_fe9a69d31d354c4d9a3a6dca765ba78e",
            "value": 6404
          }
        },
        "323a1ab0a7904643836833eed57b1826": {
          "model_module": "@jupyter-widgets/output",
          "model_name": "OutputModel",
          "model_module_version": "1.0.0",
          "state": {
            "_dom_classes": [],
            "_model_module": "@jupyter-widgets/output",
            "_model_module_version": "1.0.0",
            "_model_name": "OutputModel",
            "_view_count": null,
            "_view_module": "@jupyter-widgets/output",
            "_view_module_version": "1.0.0",
            "_view_name": "OutputView",
            "layout": "IPY_MODEL_fe7439ae73af43c9a739633113525879",
            "msg_id": "",
            "outputs": [
              {
                "output_type": "display_data",
                "data": {
                  "text/plain": "<Figure size 640x480 with 1 Axes>",
                  "image/png": "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\n"
                },
                "metadata": {}
              }
            ]
          }
        },
        "48be4db3b9cf4370af448bb8d8854b60": {
          "model_module": "@jupyter-widgets/base",
          "model_name": "LayoutModel",
          "model_module_version": "1.2.0",
          "state": {
            "_model_module": "@jupyter-widgets/base",
            "_model_module_version": "1.2.0",
            "_model_name": "LayoutModel",
            "_view_count": null,
            "_view_module": "@jupyter-widgets/base",
            "_view_module_version": "1.2.0",
            "_view_name": "LayoutView",
            "align_content": null,
            "align_items": null,
            "align_self": null,
            "border": null,
            "bottom": null,
            "display": null,
            "flex": null,
            "flex_flow": null,
            "grid_area": null,
            "grid_auto_columns": null,
            "grid_auto_flow": null,
            "grid_auto_rows": null,
            "grid_column": null,
            "grid_gap": null,
            "grid_row": null,
            "grid_template_areas": null,
            "grid_template_columns": null,
            "grid_template_rows": null,
            "height": null,
            "justify_content": null,
            "justify_items": null,
            "left": null,
            "margin": null,
            "max_height": null,
            "max_width": null,
            "min_height": null,
            "min_width": null,
            "object_fit": null,
            "object_position": null,
            "order": null,
            "overflow": null,
            "overflow_x": null,
            "overflow_y": null,
            "padding": null,
            "right": null,
            "top": null,
            "visibility": null,
            "width": null
          }
        },
        "849bbf2cc3fa43b5901ba86f7462bd03": {
          "model_module": "@jupyter-widgets/base",
          "model_name": "LayoutModel",
          "model_module_version": "1.2.0",
          "state": {
            "_model_module": "@jupyter-widgets/base",
            "_model_module_version": "1.2.0",
            "_model_name": "LayoutModel",
            "_view_count": null,
            "_view_module": "@jupyter-widgets/base",
            "_view_module_version": "1.2.0",
            "_view_name": "LayoutView",
            "align_content": null,
            "align_items": null,
            "align_self": null,
            "border": null,
            "bottom": null,
            "display": null,
            "flex": null,
            "flex_flow": null,
            "grid_area": null,
            "grid_auto_columns": null,
            "grid_auto_flow": null,
            "grid_auto_rows": null,
            "grid_column": null,
            "grid_gap": null,
            "grid_row": null,
            "grid_template_areas": null,
            "grid_template_columns": null,
            "grid_template_rows": null,
            "height": null,
            "justify_content": null,
            "justify_items": null,
            "left": null,
            "margin": null,
            "max_height": null,
            "max_width": null,
            "min_height": null,
            "min_width": null,
            "object_fit": null,
            "object_position": null,
            "order": null,
            "overflow": null,
            "overflow_x": null,
            "overflow_y": null,
            "padding": null,
            "right": null,
            "top": null,
            "visibility": null,
            "width": null
          }
        },
        "fe9a69d31d354c4d9a3a6dca765ba78e": {
          "model_module": "@jupyter-widgets/controls",
          "model_name": "SliderStyleModel",
          "model_module_version": "1.5.0",
          "state": {
            "_model_module": "@jupyter-widgets/controls",
            "_model_module_version": "1.5.0",
            "_model_name": "SliderStyleModel",
            "_view_count": null,
            "_view_module": "@jupyter-widgets/base",
            "_view_module_version": "1.2.0",
            "_view_name": "StyleView",
            "description_width": "",
            "handle_color": null
          }
        },
        "fe7439ae73af43c9a739633113525879": {
          "model_module": "@jupyter-widgets/base",
          "model_name": "LayoutModel",
          "model_module_version": "1.2.0",
          "state": {
            "_model_module": "@jupyter-widgets/base",
            "_model_module_version": "1.2.0",
            "_model_name": "LayoutModel",
            "_view_count": null,
            "_view_module": "@jupyter-widgets/base",
            "_view_module_version": "1.2.0",
            "_view_name": "LayoutView",
            "align_content": null,
            "align_items": null,
            "align_self": null,
            "border": null,
            "bottom": null,
            "display": null,
            "flex": null,
            "flex_flow": null,
            "grid_area": null,
            "grid_auto_columns": null,
            "grid_auto_flow": null,
            "grid_auto_rows": null,
            "grid_column": null,
            "grid_gap": null,
            "grid_row": null,
            "grid_template_areas": null,
            "grid_template_columns": null,
            "grid_template_rows": null,
            "height": null,
            "justify_content": null,
            "justify_items": null,
            "left": null,
            "margin": null,
            "max_height": null,
            "max_width": null,
            "min_height": null,
            "min_width": null,
            "object_fit": null,
            "object_position": null,
            "order": null,
            "overflow": null,
            "overflow_x": null,
            "overflow_y": null,
            "padding": null,
            "right": null,
            "top": null,
            "visibility": null,
            "width": null
          }
        }
      }
    }
  },
  "cells": [
    {
      "cell_type": "markdown",
      "source": [
        "# **Significância Estatística**\n",
        "\n",
        "w é o número de pontos no histograma.\n",
        "\n",
        "Neste exercício vamos verificar como o fundo afeta a determinação da área do pico.\n",
        "\n",
        "# **Atividade:**\n",
        "\n",
        "Rodar o código abaixo para w (número de contagens da gaussiana) = 104, 1004 e 9904\n",
        "\n",
        "Para um fundo fixo a ser determinado por grupos. (Pode ser 0, 100, 200, 300, 400, 500 ou 600)\n",
        "\n",
        "Para cada w, anotar a \"Area\" impressa no gráfico"
      ],
      "metadata": {
        "id": "e68O6CdrqFDr"
      }
    },
    {
      "cell_type": "code",
      "source": [
        "import numpy as np\n",
        "import matplotlib.pyplot as plt\n",
        "from scipy.optimize import curve_fit\n",
        "from ipywidgets import *;\n",
        "\n",
        "def gaussiana(x, amp, mean, stddev, bg):\n",
        "    return amp * np.exp(-(x - mean)**2 / (2 * stddev**2)) / (np.sqrt(2*np.pi)*stddev) + bg\n",
        "\n",
        "fundo = 600\n",
        "\n",
        "x = np.random.randn(10000)\n",
        "bg = np.random.rand(fundo*100)*16.0-8.0\n",
        "\n",
        "def histograma2(x,bg,w):\n",
        "    buffer = np.concatenate((x[:int(w)],bg))\n",
        "    bin_heights, bin_edges, _ = plt.hist(buffer,bins=100, range=(-8,8));\n",
        "    bin_centers = (bin_edges[:-1] + bin_edges[1:]) / 2\n",
        "    popt, pcov = curve_fit(gaussiana, bin_centers, bin_heights, p0=[1, 0, 1, 0], bounds=(0,np.inf))\n",
        "    x_interval = np.linspace(bin_edges[0], bin_edges[-1], 1000)\n",
        "    plt.plot(x_interval, gaussiana(x_interval, *popt), color='r', label='Ajuste Gaussiano')\n",
        "    plt.text(-7,800,'Centro: %.2f \\nSigma: %.2f\\nArea: %.2f\\nBG: %.2f'%(popt[1],popt[2],popt[0]/(bin_edges[1]-bin_edges[0]),popt[3]))\n",
        "    plt.xlim(xmin=-8, xmax=8)\n",
        "    plt.ylim(ymin=0,ymax=1000)\n",
        "    plt.show()\n",
        "    plt.clf() # Limpa os eixos\n",
        "    plt.cla() # Limpa a figura\n",
        "    plt.close() # Fecha o gráfico\n",
        "\n",
        "def update2(w = 20):\n",
        "        histograma2(x,bg,w)\n",
        "interact(update2,w=(4,1e4,100));"
      ],
      "metadata": {
        "colab": {
          "base_uri": "https://localhost:8080/",
          "height": 467,
          "referenced_widgets": [
            "53a1d8b9f0cc457c965691427f8039f2",
            "3c31b3d3f2a042a5b520207984dc9283",
            "323a1ab0a7904643836833eed57b1826",
            "48be4db3b9cf4370af448bb8d8854b60",
            "849bbf2cc3fa43b5901ba86f7462bd03",
            "fe9a69d31d354c4d9a3a6dca765ba78e",
            "fe7439ae73af43c9a739633113525879"
          ]
        },
        "id": "lQSDzT6-qCtu",
        "outputId": "29a94351-9587-44ca-a1a2-3955ee07209c"
      },
      "execution_count": 9,
      "outputs": [
        {
          "output_type": "display_data",
          "data": {
            "text/plain": [
              "interactive(children=(FloatSlider(value=20.0, description='w', max=10000.0, min=4.0, step=100.0), Output()), _…"
            ],
            "application/vnd.jupyter.widget-view+json": {
              "version_major": 2,
              "version_minor": 0,
              "model_id": "53a1d8b9f0cc457c965691427f8039f2"
            }
          },
          "metadata": {}
        }
      ]
    }
  ]
}